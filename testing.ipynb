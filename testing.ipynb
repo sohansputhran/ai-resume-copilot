{
 "cells": [
  {
   "cell_type": "code",
   "execution_count": 1,
   "id": "59082c2a",
   "metadata": {},
   "outputs": [
    {
     "name": "stdout",
     "output_type": "stream",
     "text": [
      "True\n",
      "11.8\n",
      "NVIDIA GeForce RTX 2060\n"
     ]
    }
   ],
   "source": [
    "import torch\n",
    "print(torch.cuda.is_available())   # Should be True\n",
    "print(torch.version.cuda)          # Should print 11.8 or similar\n",
    "print(torch.cuda.get_device_name(0)) # Should print RTX 2060 or similar"
   ]
  },
  {
   "cell_type": "code",
   "execution_count": null,
   "id": "17492cc4",
   "metadata": {},
   "outputs": [],
   "source": []
  }
 ],
 "metadata": {
  "kernelspec": {
   "display_name": ".venv",
   "language": "python",
   "name": "python3"
  },
  "language_info": {
   "codemirror_mode": {
    "name": "ipython",
    "version": 3
   },
   "file_extension": ".py",
   "mimetype": "text/x-python",
   "name": "python",
   "nbconvert_exporter": "python",
   "pygments_lexer": "ipython3",
   "version": "3.11.9"
  }
 },
 "nbformat": 4,
 "nbformat_minor": 5
}
